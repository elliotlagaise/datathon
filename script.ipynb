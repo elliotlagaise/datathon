{
 "cells": [
  {
   "cell_type": "code",
   "execution_count": 2,
   "metadata": {},
   "outputs": [
    {
     "data": {
      "application/vnd.microsoft.datawrangler.viewer.v0+json": {
       "columns": [
        {
         "name": "index",
         "rawType": "int64",
         "type": "integer"
        },
        {
         "name": "id",
         "rawType": "object",
         "type": "string"
        },
        {
         "name": "nom_com",
         "rawType": "object",
         "type": "string"
        },
        {
         "name": "idu",
         "rawType": "object",
         "type": "string"
        },
        {
         "name": "contenance",
         "rawType": "int64",
         "type": "integer"
        },
        {
         "name": "min_distance_meters_enedis",
         "rawType": "float64",
         "type": "float"
        },
        {
         "name": "centroid_x",
         "rawType": "float64",
         "type": "float"
        },
        {
         "name": "centroid_y",
         "rawType": "float64",
         "type": "float"
        },
        {
         "name": "min_distance_meters_route",
         "rawType": "float64",
         "type": "float"
        },
        {
         "name": "nearest_route_id",
         "rawType": "int64",
         "type": "integer"
        },
        {
         "name": "highway",
         "rawType": "object",
         "type": "string"
        },
        {
         "name": "name",
         "rawType": "object",
         "type": "unknown"
        }
       ],
       "conversionMethod": "pd.DataFrame",
       "ref": "62250986-a524-41e7-8aa7-3a93c42ba1e8",
       "rows": [
        [
         "0",
         "parcelle.40079477",
         "Marseille",
         "132169100C0180",
         "5567",
         "16.77168900043102",
         "43.350898971187256",
         "5.349608541307329",
         "0.0",
         "445307145",
         "service",
         null
        ],
        [
         "1",
         "parcelle.40083492",
         "Marseille",
         "132058190A0110",
         "10588",
         "0.0",
         "43.292013637009084",
         "5.39902736170706",
         "0.0",
         "260500778",
         "service",
         "Allée Fraissinet"
        ],
        [
         "2",
         "parcelle.40083501",
         "Marseille",
         "132098460C0196",
         "18520",
         "0.0",
         "43.23601566299758",
         "5.412615792651035",
         "0.0",
         "1193176178",
         "service",
         null
        ],
        [
         "3",
         "parcelle.40083533",
         "Marseille",
         "13212877AE0121",
         "5596",
         "0.0",
         "43.30601361063431",
         "5.441690829393496",
         "0.0",
         "27773399",
         "residential",
         "Traverse de Courtrai"
        ],
        [
         "4",
         "parcelle.40083539",
         "Marseille",
         "132118700H0156",
         "96129",
         "0.0",
         "43.28312992167407",
         "5.459582218547111",
         "0.0",
         "157678655",
         "service",
         null
        ]
       ],
       "shape": {
        "columns": 11,
        "rows": 5
       }
      },
      "text/html": [
       "<div>\n",
       "<style scoped>\n",
       "    .dataframe tbody tr th:only-of-type {\n",
       "        vertical-align: middle;\n",
       "    }\n",
       "\n",
       "    .dataframe tbody tr th {\n",
       "        vertical-align: top;\n",
       "    }\n",
       "\n",
       "    .dataframe thead th {\n",
       "        text-align: right;\n",
       "    }\n",
       "</style>\n",
       "<table border=\"1\" class=\"dataframe\">\n",
       "  <thead>\n",
       "    <tr style=\"text-align: right;\">\n",
       "      <th></th>\n",
       "      <th>id</th>\n",
       "      <th>nom_com</th>\n",
       "      <th>idu</th>\n",
       "      <th>contenance</th>\n",
       "      <th>min_distance_meters_enedis</th>\n",
       "      <th>centroid_x</th>\n",
       "      <th>centroid_y</th>\n",
       "      <th>min_distance_meters_route</th>\n",
       "      <th>nearest_route_id</th>\n",
       "      <th>highway</th>\n",
       "      <th>name</th>\n",
       "    </tr>\n",
       "  </thead>\n",
       "  <tbody>\n",
       "    <tr>\n",
       "      <th>0</th>\n",
       "      <td>parcelle.40079477</td>\n",
       "      <td>Marseille</td>\n",
       "      <td>132169100C0180</td>\n",
       "      <td>5567</td>\n",
       "      <td>16.771689</td>\n",
       "      <td>43.350899</td>\n",
       "      <td>5.349609</td>\n",
       "      <td>0.0</td>\n",
       "      <td>445307145</td>\n",
       "      <td>service</td>\n",
       "      <td>NaN</td>\n",
       "    </tr>\n",
       "    <tr>\n",
       "      <th>1</th>\n",
       "      <td>parcelle.40083492</td>\n",
       "      <td>Marseille</td>\n",
       "      <td>132058190A0110</td>\n",
       "      <td>10588</td>\n",
       "      <td>0.000000</td>\n",
       "      <td>43.292014</td>\n",
       "      <td>5.399027</td>\n",
       "      <td>0.0</td>\n",
       "      <td>260500778</td>\n",
       "      <td>service</td>\n",
       "      <td>Allée Fraissinet</td>\n",
       "    </tr>\n",
       "    <tr>\n",
       "      <th>2</th>\n",
       "      <td>parcelle.40083501</td>\n",
       "      <td>Marseille</td>\n",
       "      <td>132098460C0196</td>\n",
       "      <td>18520</td>\n",
       "      <td>0.000000</td>\n",
       "      <td>43.236016</td>\n",
       "      <td>5.412616</td>\n",
       "      <td>0.0</td>\n",
       "      <td>1193176178</td>\n",
       "      <td>service</td>\n",
       "      <td>NaN</td>\n",
       "    </tr>\n",
       "    <tr>\n",
       "      <th>3</th>\n",
       "      <td>parcelle.40083533</td>\n",
       "      <td>Marseille</td>\n",
       "      <td>13212877AE0121</td>\n",
       "      <td>5596</td>\n",
       "      <td>0.000000</td>\n",
       "      <td>43.306014</td>\n",
       "      <td>5.441691</td>\n",
       "      <td>0.0</td>\n",
       "      <td>27773399</td>\n",
       "      <td>residential</td>\n",
       "      <td>Traverse de Courtrai</td>\n",
       "    </tr>\n",
       "    <tr>\n",
       "      <th>4</th>\n",
       "      <td>parcelle.40083539</td>\n",
       "      <td>Marseille</td>\n",
       "      <td>132118700H0156</td>\n",
       "      <td>96129</td>\n",
       "      <td>0.000000</td>\n",
       "      <td>43.283130</td>\n",
       "      <td>5.459582</td>\n",
       "      <td>0.0</td>\n",
       "      <td>157678655</td>\n",
       "      <td>service</td>\n",
       "      <td>NaN</td>\n",
       "    </tr>\n",
       "  </tbody>\n",
       "</table>\n",
       "</div>"
      ],
      "text/plain": [
       "                  id    nom_com             idu  contenance  \\\n",
       "0  parcelle.40079477  Marseille  132169100C0180        5567   \n",
       "1  parcelle.40083492  Marseille  132058190A0110       10588   \n",
       "2  parcelle.40083501  Marseille  132098460C0196       18520   \n",
       "3  parcelle.40083533  Marseille  13212877AE0121        5596   \n",
       "4  parcelle.40083539  Marseille  132118700H0156       96129   \n",
       "\n",
       "   min_distance_meters_enedis  centroid_x  centroid_y  \\\n",
       "0                   16.771689   43.350899    5.349609   \n",
       "1                    0.000000   43.292014    5.399027   \n",
       "2                    0.000000   43.236016    5.412616   \n",
       "3                    0.000000   43.306014    5.441691   \n",
       "4                    0.000000   43.283130    5.459582   \n",
       "\n",
       "   min_distance_meters_route  nearest_route_id      highway  \\\n",
       "0                        0.0         445307145      service   \n",
       "1                        0.0         260500778      service   \n",
       "2                        0.0        1193176178      service   \n",
       "3                        0.0          27773399  residential   \n",
       "4                        0.0         157678655      service   \n",
       "\n",
       "                   name  \n",
       "0                   NaN  \n",
       "1      Allée Fraissinet  \n",
       "2                   NaN  \n",
       "3  Traverse de Courtrai  \n",
       "4                   NaN  "
      ]
     },
     "execution_count": 2,
     "metadata": {},
     "output_type": "execute_result"
    }
   ],
   "source": [
    "import pandas as pd\n",
    "\n",
    "# Chemin vers le fichier CSV\n",
    "file_path = './MAP/data/parcelles/parcelles_distances_nearest.csv'\n",
    "\n",
    "# Lire le fichier CSV\n",
    "df = pd.read_csv(file_path)\n",
    "\n",
    "df.head()"
   ]
  },
  {
   "cell_type": "code",
   "execution_count": 3,
   "metadata": {},
   "outputs": [
    {
     "name": "stdout",
     "output_type": "stream",
     "text": [
      "Nombre de lignes : 50000\n"
     ]
    }
   ],
   "source": [
    "# Afficher le nombre de lignes du DataFrame\n",
    "num_rows = df.shape[0]\n",
    "print(f\"Nombre de lignes : {num_rows}\")"
   ]
  },
  {
   "cell_type": "code",
   "execution_count": null,
   "metadata": {},
   "outputs": [
    {
     "data": {
      "application/vnd.microsoft.datawrangler.viewer.v0+json": {
       "columns": [
        {
         "name": "index",
         "rawType": "int64",
         "type": "integer"
        },
        {
         "name": "id",
         "rawType": "object",
         "type": "string"
        },
        {
         "name": "nom_com",
         "rawType": "object",
         "type": "string"
        },
        {
         "name": "info_parc",
         "rawType": "object",
         "type": "string"
        },
        {
         "name": "contenance",
         "rawType": "int64",
         "type": "integer"
        },
        {
         "name": "min_distance_meters_enedis",
         "rawType": "float64",
         "type": "float"
        },
        {
         "name": "centroid_x",
         "rawType": "float64",
         "type": "float"
        },
        {
         "name": "centroid_y",
         "rawType": "float64",
         "type": "float"
        },
        {
         "name": "min_distance_meters_route",
         "rawType": "float64",
         "type": "float"
        },
        {
         "name": "nearest_route_id",
         "rawType": "int64",
         "type": "integer"
        },
        {
         "name": "highway",
         "rawType": "object",
         "type": "string"
        },
        {
         "name": "name",
         "rawType": "object",
         "type": "unknown"
        }
       ],
       "conversionMethod": "pd.DataFrame",
       "ref": "d244e84d-f394-4b46-8d4e-ee1bfd95b589",
       "rows": [
        [
         "0",
         "parcelle.40079477",
         "Marseille",
         "132169100C0180",
         "5567",
         "16.77168900043102",
         "43.350898971187256",
         "5.349608541307329",
         "0.0",
         "445307145",
         "service",
         null
        ],
        [
         "1",
         "parcelle.40083492",
         "Marseille",
         "132058190A0110",
         "10588",
         "0.0",
         "43.292013637009084",
         "5.39902736170706",
         "0.0",
         "260500778",
         "service",
         "Allée Fraissinet"
        ],
        [
         "2",
         "parcelle.40083501",
         "Marseille",
         "132098460C0196",
         "18520",
         "0.0",
         "43.23601566299758",
         "5.412615792651035",
         "0.0",
         "1193176178",
         "service",
         null
        ],
        [
         "3",
         "parcelle.40083533",
         "Marseille",
         "13212877AE0121",
         "5596",
         "0.0",
         "43.30601361063431",
         "5.441690829393496",
         "0.0",
         "27773399",
         "residential",
         "Traverse de Courtrai"
        ],
        [
         "4",
         "parcelle.40083539",
         "Marseille",
         "132118700H0156",
         "96129",
         "0.0",
         "43.28312992167407",
         "5.459582218547111",
         "0.0",
         "157678655",
         "service",
         null
        ]
       ],
       "shape": {
        "columns": 11,
        "rows": 5
       }
      },
      "text/html": [
       "<div>\n",
       "<style scoped>\n",
       "    .dataframe tbody tr th:only-of-type {\n",
       "        vertical-align: middle;\n",
       "    }\n",
       "\n",
       "    .dataframe tbody tr th {\n",
       "        vertical-align: top;\n",
       "    }\n",
       "\n",
       "    .dataframe thead th {\n",
       "        text-align: right;\n",
       "    }\n",
       "</style>\n",
       "<table border=\"1\" class=\"dataframe\">\n",
       "  <thead>\n",
       "    <tr style=\"text-align: right;\">\n",
       "      <th></th>\n",
       "      <th>id</th>\n",
       "      <th>nom_com</th>\n",
       "      <th>info_parc</th>\n",
       "      <th>contenance</th>\n",
       "      <th>min_distance_meters_enedis</th>\n",
       "      <th>centroid_x</th>\n",
       "      <th>centroid_y</th>\n",
       "      <th>min_distance_meters_route</th>\n",
       "      <th>nearest_route_id</th>\n",
       "      <th>highway</th>\n",
       "      <th>name</th>\n",
       "    </tr>\n",
       "  </thead>\n",
       "  <tbody>\n",
       "    <tr>\n",
       "      <th>0</th>\n",
       "      <td>parcelle.40079477</td>\n",
       "      <td>Marseille</td>\n",
       "      <td>132169100C0180</td>\n",
       "      <td>5567</td>\n",
       "      <td>16.771689</td>\n",
       "      <td>43.350899</td>\n",
       "      <td>5.349609</td>\n",
       "      <td>0.0</td>\n",
       "      <td>445307145</td>\n",
       "      <td>service</td>\n",
       "      <td>NaN</td>\n",
       "    </tr>\n",
       "    <tr>\n",
       "      <th>1</th>\n",
       "      <td>parcelle.40083492</td>\n",
       "      <td>Marseille</td>\n",
       "      <td>132058190A0110</td>\n",
       "      <td>10588</td>\n",
       "      <td>0.000000</td>\n",
       "      <td>43.292014</td>\n",
       "      <td>5.399027</td>\n",
       "      <td>0.0</td>\n",
       "      <td>260500778</td>\n",
       "      <td>service</td>\n",
       "      <td>Allée Fraissinet</td>\n",
       "    </tr>\n",
       "    <tr>\n",
       "      <th>2</th>\n",
       "      <td>parcelle.40083501</td>\n",
       "      <td>Marseille</td>\n",
       "      <td>132098460C0196</td>\n",
       "      <td>18520</td>\n",
       "      <td>0.000000</td>\n",
       "      <td>43.236016</td>\n",
       "      <td>5.412616</td>\n",
       "      <td>0.0</td>\n",
       "      <td>1193176178</td>\n",
       "      <td>service</td>\n",
       "      <td>NaN</td>\n",
       "    </tr>\n",
       "    <tr>\n",
       "      <th>3</th>\n",
       "      <td>parcelle.40083533</td>\n",
       "      <td>Marseille</td>\n",
       "      <td>13212877AE0121</td>\n",
       "      <td>5596</td>\n",
       "      <td>0.000000</td>\n",
       "      <td>43.306014</td>\n",
       "      <td>5.441691</td>\n",
       "      <td>0.0</td>\n",
       "      <td>27773399</td>\n",
       "      <td>residential</td>\n",
       "      <td>Traverse de Courtrai</td>\n",
       "    </tr>\n",
       "    <tr>\n",
       "      <th>4</th>\n",
       "      <td>parcelle.40083539</td>\n",
       "      <td>Marseille</td>\n",
       "      <td>132118700H0156</td>\n",
       "      <td>96129</td>\n",
       "      <td>0.000000</td>\n",
       "      <td>43.283130</td>\n",
       "      <td>5.459582</td>\n",
       "      <td>0.0</td>\n",
       "      <td>157678655</td>\n",
       "      <td>service</td>\n",
       "      <td>NaN</td>\n",
       "    </tr>\n",
       "  </tbody>\n",
       "</table>\n",
       "</div>"
      ],
      "text/plain": [
       "                  id    nom_com       info_parc  contenance  \\\n",
       "0  parcelle.40079477  Marseille  132169100C0180        5567   \n",
       "1  parcelle.40083492  Marseille  132058190A0110       10588   \n",
       "2  parcelle.40083501  Marseille  132098460C0196       18520   \n",
       "3  parcelle.40083533  Marseille  13212877AE0121        5596   \n",
       "4  parcelle.40083539  Marseille  132118700H0156       96129   \n",
       "\n",
       "   min_distance_meters_enedis  centroid_x  centroid_y  \\\n",
       "0                   16.771689   43.350899    5.349609   \n",
       "1                    0.000000   43.292014    5.399027   \n",
       "2                    0.000000   43.236016    5.412616   \n",
       "3                    0.000000   43.306014    5.441691   \n",
       "4                    0.000000   43.283130    5.459582   \n",
       "\n",
       "   min_distance_meters_route  nearest_route_id      highway  \\\n",
       "0                        0.0         445307145      service   \n",
       "1                        0.0         260500778      service   \n",
       "2                        0.0        1193176178      service   \n",
       "3                        0.0          27773399  residential   \n",
       "4                        0.0         157678655      service   \n",
       "\n",
       "                   name  \n",
       "0                   NaN  \n",
       "1      Allée Fraissinet  \n",
       "2                   NaN  \n",
       "3  Traverse de Courtrai  \n",
       "4                   NaN  "
      ]
     },
     "execution_count": 4,
     "metadata": {},
     "output_type": "execute_result"
    }
   ],
   "source": [
    "# Renommer la colonne 'idu' en 'info_parc'\n",
    "df.rename(columns={\"idu\": \"info_parc\"}, inplace=True)\n",
    "\n",
    "            df.head()"
   ]
  },
  {
   "cell_type": "code",
   "execution_count": 5,
   "metadata": {},
   "outputs": [
    {
     "name": "stdout",
     "output_type": "stream",
     "text": [
      "id                                0\n",
      "nom_com                           0\n",
      "info_parc                         0\n",
      "contenance                        0\n",
      "min_distance_meters_enedis        0\n",
      "centroid_x                        0\n",
      "centroid_y                        0\n",
      "min_distance_meters_route         0\n",
      "nearest_route_id                  0\n",
      "highway                           0\n",
      "name                          24410\n",
      "dtype: int64\n"
     ]
    }
   ],
   "source": [
    "# Afficher les valeurs manquantes par colonne\n",
    "missing_values = df.isnull().sum()\n",
    "print(missing_values)"
   ]
  },
  {
   "cell_type": "code",
   "execution_count": 6,
   "metadata": {},
   "outputs": [
    {
     "data": {
      "application/vnd.microsoft.datawrangler.viewer.v0+json": {
       "columns": [
        {
         "name": "index",
         "rawType": "int64",
         "type": "integer"
        },
        {
         "name": "id",
         "rawType": "object",
         "type": "string"
        },
        {
         "name": "nom_com",
         "rawType": "object",
         "type": "string"
        },
        {
         "name": "info_parc",
         "rawType": "object",
         "type": "string"
        },
        {
         "name": "contenance",
         "rawType": "int64",
         "type": "integer"
        },
        {
         "name": "min_distance_meters_enedis",
         "rawType": "float64",
         "type": "float"
        },
        {
         "name": "centroid_x",
         "rawType": "float64",
         "type": "float"
        },
        {
         "name": "centroid_y",
         "rawType": "float64",
         "type": "float"
        },
        {
         "name": "min_distance_meters_route",
         "rawType": "float64",
         "type": "float"
        },
        {
         "name": "nearest_route_id",
         "rawType": "int64",
         "type": "integer"
        },
        {
         "name": "highway",
         "rawType": "object",
         "type": "string"
        },
        {
         "name": "name",
         "rawType": "object",
         "type": "unknown"
        },
        {
         "name": "score_min_distance",
         "rawType": "int64",
         "type": "integer"
        }
       ],
       "conversionMethod": "pd.DataFrame",
       "ref": "15b89d0d-ab67-4dc2-8adb-03480e2f58ba",
       "rows": [
        [
         "0",
         "parcelle.40079477",
         "Marseille",
         "132169100C0180",
         "5567",
         "16.77168900043102",
         "43.350898971187256",
         "5.349608541307329",
         "0.0",
         "445307145",
         "service",
         null,
         "5"
        ],
        [
         "1",
         "parcelle.40083492",
         "Marseille",
         "132058190A0110",
         "10588",
         "0.0",
         "43.292013637009084",
         "5.39902736170706",
         "0.0",
         "260500778",
         "service",
         "Allée Fraissinet",
         "5"
        ],
        [
         "2",
         "parcelle.40083501",
         "Marseille",
         "132098460C0196",
         "18520",
         "0.0",
         "43.23601566299758",
         "5.412615792651035",
         "0.0",
         "1193176178",
         "service",
         null,
         "5"
        ],
        [
         "3",
         "parcelle.40083533",
         "Marseille",
         "13212877AE0121",
         "5596",
         "0.0",
         "43.30601361063431",
         "5.441690829393496",
         "0.0",
         "27773399",
         "residential",
         "Traverse de Courtrai",
         "5"
        ],
        [
         "4",
         "parcelle.40083539",
         "Marseille",
         "132118700H0156",
         "96129",
         "0.0",
         "43.28312992167407",
         "5.459582218547111",
         "0.0",
         "157678655",
         "service",
         null,
         "5"
        ]
       ],
       "shape": {
        "columns": 12,
        "rows": 5
       }
      },
      "text/html": [
       "<div>\n",
       "<style scoped>\n",
       "    .dataframe tbody tr th:only-of-type {\n",
       "        vertical-align: middle;\n",
       "    }\n",
       "\n",
       "    .dataframe tbody tr th {\n",
       "        vertical-align: top;\n",
       "    }\n",
       "\n",
       "    .dataframe thead th {\n",
       "        text-align: right;\n",
       "    }\n",
       "</style>\n",
       "<table border=\"1\" class=\"dataframe\">\n",
       "  <thead>\n",
       "    <tr style=\"text-align: right;\">\n",
       "      <th></th>\n",
       "      <th>id</th>\n",
       "      <th>nom_com</th>\n",
       "      <th>info_parc</th>\n",
       "      <th>contenance</th>\n",
       "      <th>min_distance_meters_enedis</th>\n",
       "      <th>centroid_x</th>\n",
       "      <th>centroid_y</th>\n",
       "      <th>min_distance_meters_route</th>\n",
       "      <th>nearest_route_id</th>\n",
       "      <th>highway</th>\n",
       "      <th>name</th>\n",
       "      <th>score_min_distance</th>\n",
       "    </tr>\n",
       "  </thead>\n",
       "  <tbody>\n",
       "    <tr>\n",
       "      <th>0</th>\n",
       "      <td>parcelle.40079477</td>\n",
       "      <td>Marseille</td>\n",
       "      <td>132169100C0180</td>\n",
       "      <td>5567</td>\n",
       "      <td>16.771689</td>\n",
       "      <td>43.350899</td>\n",
       "      <td>5.349609</td>\n",
       "      <td>0.0</td>\n",
       "      <td>445307145</td>\n",
       "      <td>service</td>\n",
       "      <td>NaN</td>\n",
       "      <td>5</td>\n",
       "    </tr>\n",
       "    <tr>\n",
       "      <th>1</th>\n",
       "      <td>parcelle.40083492</td>\n",
       "      <td>Marseille</td>\n",
       "      <td>132058190A0110</td>\n",
       "      <td>10588</td>\n",
       "      <td>0.000000</td>\n",
       "      <td>43.292014</td>\n",
       "      <td>5.399027</td>\n",
       "      <td>0.0</td>\n",
       "      <td>260500778</td>\n",
       "      <td>service</td>\n",
       "      <td>Allée Fraissinet</td>\n",
       "      <td>5</td>\n",
       "    </tr>\n",
       "    <tr>\n",
       "      <th>2</th>\n",
       "      <td>parcelle.40083501</td>\n",
       "      <td>Marseille</td>\n",
       "      <td>132098460C0196</td>\n",
       "      <td>18520</td>\n",
       "      <td>0.000000</td>\n",
       "      <td>43.236016</td>\n",
       "      <td>5.412616</td>\n",
       "      <td>0.0</td>\n",
       "      <td>1193176178</td>\n",
       "      <td>service</td>\n",
       "      <td>NaN</td>\n",
       "      <td>5</td>\n",
       "    </tr>\n",
       "    <tr>\n",
       "      <th>3</th>\n",
       "      <td>parcelle.40083533</td>\n",
       "      <td>Marseille</td>\n",
       "      <td>13212877AE0121</td>\n",
       "      <td>5596</td>\n",
       "      <td>0.000000</td>\n",
       "      <td>43.306014</td>\n",
       "      <td>5.441691</td>\n",
       "      <td>0.0</td>\n",
       "      <td>27773399</td>\n",
       "      <td>residential</td>\n",
       "      <td>Traverse de Courtrai</td>\n",
       "      <td>5</td>\n",
       "    </tr>\n",
       "    <tr>\n",
       "      <th>4</th>\n",
       "      <td>parcelle.40083539</td>\n",
       "      <td>Marseille</td>\n",
       "      <td>132118700H0156</td>\n",
       "      <td>96129</td>\n",
       "      <td>0.000000</td>\n",
       "      <td>43.283130</td>\n",
       "      <td>5.459582</td>\n",
       "      <td>0.0</td>\n",
       "      <td>157678655</td>\n",
       "      <td>service</td>\n",
       "      <td>NaN</td>\n",
       "      <td>5</td>\n",
       "    </tr>\n",
       "  </tbody>\n",
       "</table>\n",
       "</div>"
      ],
      "text/plain": [
       "                  id    nom_com       info_parc  contenance  \\\n",
       "0  parcelle.40079477  Marseille  132169100C0180        5567   \n",
       "1  parcelle.40083492  Marseille  132058190A0110       10588   \n",
       "2  parcelle.40083501  Marseille  132098460C0196       18520   \n",
       "3  parcelle.40083533  Marseille  13212877AE0121        5596   \n",
       "4  parcelle.40083539  Marseille  132118700H0156       96129   \n",
       "\n",
       "   min_distance_meters_enedis  centroid_x  centroid_y  \\\n",
       "0                   16.771689   43.350899    5.349609   \n",
       "1                    0.000000   43.292014    5.399027   \n",
       "2                    0.000000   43.236016    5.412616   \n",
       "3                    0.000000   43.306014    5.441691   \n",
       "4                    0.000000   43.283130    5.459582   \n",
       "\n",
       "   min_distance_meters_route  nearest_route_id      highway  \\\n",
       "0                        0.0         445307145      service   \n",
       "1                        0.0         260500778      service   \n",
       "2                        0.0        1193176178      service   \n",
       "3                        0.0          27773399  residential   \n",
       "4                        0.0         157678655      service   \n",
       "\n",
       "                   name  score_min_distance  \n",
       "0                   NaN                   5  \n",
       "1      Allée Fraissinet                   5  \n",
       "2                   NaN                   5  \n",
       "3  Traverse de Courtrai                   5  \n",
       "4                   NaN                   5  "
      ]
     },
     "execution_count": 6,
     "metadata": {},
     "output_type": "execute_result"
    }
   ],
   "source": [
    "# Définir une fonction pour attribuer un score en fonction de la distance Enedis\n",
    "def score_distance(distance_ENEDIS):\n",
    "    if distance_ENEDIS > 1000:\n",
    "        return 0\n",
    "    elif 750 <= distance_ENEDIS <= 999.999999:\n",
    "        return 1\n",
    "    elif 500 <= distance_ENEDIS <= 749.999999:\n",
    "        return 2\n",
    "    elif 300 <= distance_ENEDIS <= 499.999999:\n",
    "        return 3\n",
    "    elif 100 <= distance_ENEDIS <= 299.999999:\n",
    "        return 4\n",
    "    elif 0 <= distance_ENEDIS <= 99.999999:\n",
    "        return 5\n",
    "    else:\n",
    "        return None  # Pour gérer les valeurs en dehors de la plage spécifiée\n",
    "\n",
    "# Appliquer la fonction de scoring à la colonne 'min_distance_meters_enedis'\n",
    "df['score_min_distance'] = df['min_distance_meters_enedis'].apply(score_distance)\n",
    "\n",
    "# Afficher les premières lignes du DataFrame avec les scores\n",
    "df.head()"
   ]
  },
  {
   "cell_type": "code",
   "execution_count": 7,
   "metadata": {},
   "outputs": [
    {
     "name": "stdout",
     "output_type": "stream",
     "text": [
      "Empty DataFrame\n",
      "Columns: [min_distance_meters_enedis, score_min_distance]\n",
      "Index: []\n"
     ]
    }
   ],
   "source": [
    "# Filtrer les lignes avec des valeurs NaN dans 'score_min_distance'\n",
    "nan_rows = df[df['score_min_distance'].isnull()][['min_distance_meters_enedis', 'score_min_distance']]\n",
    "\n",
    "# Afficher les lignes filtrées\n",
    "print(nan_rows)"
   ]
  },
  {
   "cell_type": "code",
   "execution_count": 8,
   "metadata": {},
   "outputs": [],
   "source": [
    "# Définir une fonction pour attribuer un score en fonction de la distance pour 'min_distance_meters_route'\n",
    "def score_distance_route(distance_route):\n",
    "    if distance_route > 1000:\n",
    "        return 0\n",
    "    elif 750 <= distance_route <= 999.999999:\n",
    "        return 1\n",
    "    elif 400 <= distance_route <= 749.999999:\n",
    "        return 2\n",
    "    elif 300 <= distance_route <= 499.999999:\n",
    "        return 3\n",
    "    elif 100 <= distance_route <= 299.999999:\n",
    "        return 4\n",
    "    elif 0 <= distance_route <= 99.999999:\n",
    "        return 5\n",
    "    else:\n",
    "        return None  # Pour gérer les valeurs en dehors de la plage spécifiée\n",
    "\n",
    "# Appliquer la fonction de scoring à la colonne 'min_distance_meters_route'\n",
    "df['score_min_distance_route'] = df['min_distance_meters_route'].apply(score_distance_route)"
   ]
  },
  {
   "cell_type": "code",
   "execution_count": 9,
   "metadata": {},
   "outputs": [
    {
     "data": {
      "application/vnd.microsoft.datawrangler.viewer.v0+json": {
       "columns": [
        {
         "name": "index",
         "rawType": "int64",
         "type": "integer"
        },
        {
         "name": "id",
         "rawType": "object",
         "type": "string"
        },
        {
         "name": "nom_com",
         "rawType": "object",
         "type": "string"
        },
        {
         "name": "info_parc",
         "rawType": "object",
         "type": "string"
        },
        {
         "name": "contenance",
         "rawType": "int64",
         "type": "integer"
        },
        {
         "name": "min_distance_meters_enedis",
         "rawType": "float64",
         "type": "float"
        },
        {
         "name": "centroid_x",
         "rawType": "float64",
         "type": "float"
        },
        {
         "name": "centroid_y",
         "rawType": "float64",
         "type": "float"
        },
        {
         "name": "min_distance_meters_route",
         "rawType": "float64",
         "type": "float"
        },
        {
         "name": "nearest_route_id",
         "rawType": "int64",
         "type": "integer"
        },
        {
         "name": "highway",
         "rawType": "object",
         "type": "string"
        },
        {
         "name": "name",
         "rawType": "object",
         "type": "unknown"
        },
        {
         "name": "score_min_distance",
         "rawType": "int64",
         "type": "integer"
        },
        {
         "name": "score_min_distance_route",
         "rawType": "int64",
         "type": "integer"
        }
       ],
       "conversionMethod": "pd.DataFrame",
       "ref": "b383b7bc-3e34-4d80-8a66-fde226c7cc6d",
       "rows": [
        [
         "0",
         "parcelle.40079477",
         "Marseille",
         "132169100C0180",
         "5567",
         "16.77168900043102",
         "43.350898971187256",
         "5.349608541307329",
         "0.0",
         "445307145",
         "service",
         null,
         "5",
         "5"
        ],
        [
         "1",
         "parcelle.40083492",
         "Marseille",
         "132058190A0110",
         "10588",
         "0.0",
         "43.292013637009084",
         "5.39902736170706",
         "0.0",
         "260500778",
         "service",
         "Allée Fraissinet",
         "5",
         "5"
        ],
        [
         "2",
         "parcelle.40083501",
         "Marseille",
         "132098460C0196",
         "18520",
         "0.0",
         "43.23601566299758",
         "5.412615792651035",
         "0.0",
         "1193176178",
         "service",
         null,
         "5",
         "5"
        ],
        [
         "3",
         "parcelle.40083533",
         "Marseille",
         "13212877AE0121",
         "5596",
         "0.0",
         "43.30601361063431",
         "5.441690829393496",
         "0.0",
         "27773399",
         "residential",
         "Traverse de Courtrai",
         "5",
         "5"
        ],
        [
         "4",
         "parcelle.40083539",
         "Marseille",
         "132118700H0156",
         "96129",
         "0.0",
         "43.28312992167407",
         "5.459582218547111",
         "0.0",
         "157678655",
         "service",
         null,
         "5",
         "5"
        ]
       ],
       "shape": {
        "columns": 13,
        "rows": 5
       }
      },
      "text/html": [
       "<div>\n",
       "<style scoped>\n",
       "    .dataframe tbody tr th:only-of-type {\n",
       "        vertical-align: middle;\n",
       "    }\n",
       "\n",
       "    .dataframe tbody tr th {\n",
       "        vertical-align: top;\n",
       "    }\n",
       "\n",
       "    .dataframe thead th {\n",
       "        text-align: right;\n",
       "    }\n",
       "</style>\n",
       "<table border=\"1\" class=\"dataframe\">\n",
       "  <thead>\n",
       "    <tr style=\"text-align: right;\">\n",
       "      <th></th>\n",
       "      <th>id</th>\n",
       "      <th>nom_com</th>\n",
       "      <th>info_parc</th>\n",
       "      <th>contenance</th>\n",
       "      <th>min_distance_meters_enedis</th>\n",
       "      <th>centroid_x</th>\n",
       "      <th>centroid_y</th>\n",
       "      <th>min_distance_meters_route</th>\n",
       "      <th>nearest_route_id</th>\n",
       "      <th>highway</th>\n",
       "      <th>name</th>\n",
       "      <th>score_min_distance</th>\n",
       "      <th>score_min_distance_route</th>\n",
       "    </tr>\n",
       "  </thead>\n",
       "  <tbody>\n",
       "    <tr>\n",
       "      <th>0</th>\n",
       "      <td>parcelle.40079477</td>\n",
       "      <td>Marseille</td>\n",
       "      <td>132169100C0180</td>\n",
       "      <td>5567</td>\n",
       "      <td>16.771689</td>\n",
       "      <td>43.350899</td>\n",
       "      <td>5.349609</td>\n",
       "      <td>0.0</td>\n",
       "      <td>445307145</td>\n",
       "      <td>service</td>\n",
       "      <td>NaN</td>\n",
       "      <td>5</td>\n",
       "      <td>5</td>\n",
       "    </tr>\n",
       "    <tr>\n",
       "      <th>1</th>\n",
       "      <td>parcelle.40083492</td>\n",
       "      <td>Marseille</td>\n",
       "      <td>132058190A0110</td>\n",
       "      <td>10588</td>\n",
       "      <td>0.000000</td>\n",
       "      <td>43.292014</td>\n",
       "      <td>5.399027</td>\n",
       "      <td>0.0</td>\n",
       "      <td>260500778</td>\n",
       "      <td>service</td>\n",
       "      <td>Allée Fraissinet</td>\n",
       "      <td>5</td>\n",
       "      <td>5</td>\n",
       "    </tr>\n",
       "    <tr>\n",
       "      <th>2</th>\n",
       "      <td>parcelle.40083501</td>\n",
       "      <td>Marseille</td>\n",
       "      <td>132098460C0196</td>\n",
       "      <td>18520</td>\n",
       "      <td>0.000000</td>\n",
       "      <td>43.236016</td>\n",
       "      <td>5.412616</td>\n",
       "      <td>0.0</td>\n",
       "      <td>1193176178</td>\n",
       "      <td>service</td>\n",
       "      <td>NaN</td>\n",
       "      <td>5</td>\n",
       "      <td>5</td>\n",
       "    </tr>\n",
       "    <tr>\n",
       "      <th>3</th>\n",
       "      <td>parcelle.40083533</td>\n",
       "      <td>Marseille</td>\n",
       "      <td>13212877AE0121</td>\n",
       "      <td>5596</td>\n",
       "      <td>0.000000</td>\n",
       "      <td>43.306014</td>\n",
       "      <td>5.441691</td>\n",
       "      <td>0.0</td>\n",
       "      <td>27773399</td>\n",
       "      <td>residential</td>\n",
       "      <td>Traverse de Courtrai</td>\n",
       "      <td>5</td>\n",
       "      <td>5</td>\n",
       "    </tr>\n",
       "    <tr>\n",
       "      <th>4</th>\n",
       "      <td>parcelle.40083539</td>\n",
       "      <td>Marseille</td>\n",
       "      <td>132118700H0156</td>\n",
       "      <td>96129</td>\n",
       "      <td>0.000000</td>\n",
       "      <td>43.283130</td>\n",
       "      <td>5.459582</td>\n",
       "      <td>0.0</td>\n",
       "      <td>157678655</td>\n",
       "      <td>service</td>\n",
       "      <td>NaN</td>\n",
       "      <td>5</td>\n",
       "      <td>5</td>\n",
       "    </tr>\n",
       "  </tbody>\n",
       "</table>\n",
       "</div>"
      ],
      "text/plain": [
       "                  id    nom_com       info_parc  contenance  \\\n",
       "0  parcelle.40079477  Marseille  132169100C0180        5567   \n",
       "1  parcelle.40083492  Marseille  132058190A0110       10588   \n",
       "2  parcelle.40083501  Marseille  132098460C0196       18520   \n",
       "3  parcelle.40083533  Marseille  13212877AE0121        5596   \n",
       "4  parcelle.40083539  Marseille  132118700H0156       96129   \n",
       "\n",
       "   min_distance_meters_enedis  centroid_x  centroid_y  \\\n",
       "0                   16.771689   43.350899    5.349609   \n",
       "1                    0.000000   43.292014    5.399027   \n",
       "2                    0.000000   43.236016    5.412616   \n",
       "3                    0.000000   43.306014    5.441691   \n",
       "4                    0.000000   43.283130    5.459582   \n",
       "\n",
       "   min_distance_meters_route  nearest_route_id      highway  \\\n",
       "0                        0.0         445307145      service   \n",
       "1                        0.0         260500778      service   \n",
       "2                        0.0        1193176178      service   \n",
       "3                        0.0          27773399  residential   \n",
       "4                        0.0         157678655      service   \n",
       "\n",
       "                   name  score_min_distance  score_min_distance_route  \n",
       "0                   NaN                   5                         5  \n",
       "1      Allée Fraissinet                   5                         5  \n",
       "2                   NaN                   5                         5  \n",
       "3  Traverse de Courtrai                   5                         5  \n",
       "4                   NaN                   5                         5  "
      ]
     },
     "execution_count": 9,
     "metadata": {},
     "output_type": "execute_result"
    }
   ],
   "source": [
    "df.head()"
   ]
  },
  {
   "cell_type": "code",
   "execution_count": 10,
   "metadata": {},
   "outputs": [
    {
     "name": "stdout",
     "output_type": "stream",
     "text": [
      "Nombre de valeurs NaN dans la colonne 'score_min_distance_route' : 0\n"
     ]
    }
   ],
   "source": [
    "# Vérifier s'il y a des valeurs NaN dans la colonne 'score_min_distance_route'\n",
    "nan_count_route = df['score_min_distance_route'].isnull().sum()\n",
    "print(f\"Nombre de valeurs NaN dans la colonne 'score_min_distance_route' : {nan_count_route}\")"
   ]
  },
  {
   "cell_type": "code",
   "execution_count": 11,
   "metadata": {},
   "outputs": [],
   "source": [
    "# Définir une fonction pour attribuer un score en fonction de la contenance\n",
    "def score_contenance(contenance):\n",
    "    if contenance <= 3999 or contenance > 6000:\n",
    "        return 0\n",
    "    elif 4000 <= contenance <= 4300:\n",
    "        return 1\n",
    "    elif 4301 <= contenance <= 4700:\n",
    "        return 2\n",
    "    elif 4701 <= contenance <= 5200:\n",
    "        return 3\n",
    "    elif 5201 <= contenance <= 5600:\n",
    "        return 4\n",
    "    elif 5601 <= contenance <= 6000:\n",
    "        return 5\n",
    "    else:\n",
    "        return None  # Pour gérer les valeurs en dehors de la plage spécifiée\n",
    "\n",
    "# Appliquer la fonction de scoring à la colonne 'contenance'\n",
    "df['score_contenance'] = df['contenance'].apply(score_contenance)"
   ]
  },
  {
   "cell_type": "code",
   "execution_count": 12,
   "metadata": {},
   "outputs": [
    {
     "name": "stdout",
     "output_type": "stream",
     "text": [
      "Nombre de valeurs NaN dans la colonne 'score_contenance' : 0\n",
      "Empty DataFrame\n",
      "Columns: [contenance, score_contenance]\n",
      "Index: []\n"
     ]
    }
   ],
   "source": [
    "# Vérifier s'il y a des valeurs NaN dans la colonne 'score_contenance'\n",
    "nan_count_contenance = df['score_contenance'].isnull().sum()\n",
    "print(f\"Nombre de valeurs NaN dans la colonne 'score_contenance' : {nan_count_contenance}\")\n",
    "\n",
    "# Afficher quelques exemples de lignes contenant des valeurs NaN dans 'score_contenance'\n",
    "nan_examples_contenance = df[df['score_contenance'].isnull()][['contenance', 'score_contenance']]\n",
    "print(nan_examples_contenance.head())"
   ]
  },
  {
   "cell_type": "code",
   "execution_count": 13,
   "metadata": {},
   "outputs": [
    {
     "data": {
      "application/vnd.microsoft.datawrangler.viewer.v0+json": {
       "columns": [
        {
         "name": "index",
         "rawType": "int64",
         "type": "integer"
        },
        {
         "name": "id",
         "rawType": "object",
         "type": "string"
        },
        {
         "name": "nom_com",
         "rawType": "object",
         "type": "string"
        },
        {
         "name": "info_parc",
         "rawType": "object",
         "type": "string"
        },
        {
         "name": "contenance",
         "rawType": "int64",
         "type": "integer"
        },
        {
         "name": "min_distance_meters_enedis",
         "rawType": "float64",
         "type": "float"
        },
        {
         "name": "centroid_x",
         "rawType": "float64",
         "type": "float"
        },
        {
         "name": "centroid_y",
         "rawType": "float64",
         "type": "float"
        },
        {
         "name": "min_distance_meters_route",
         "rawType": "float64",
         "type": "float"
        },
        {
         "name": "nearest_route_id",
         "rawType": "int64",
         "type": "integer"
        },
        {
         "name": "highway",
         "rawType": "object",
         "type": "string"
        },
        {
         "name": "name",
         "rawType": "object",
         "type": "unknown"
        },
        {
         "name": "score_min_distance",
         "rawType": "int64",
         "type": "integer"
        },
        {
         "name": "score_min_distance_route",
         "rawType": "int64",
         "type": "integer"
        },
        {
         "name": "score_contenance",
         "rawType": "int64",
         "type": "integer"
        }
       ],
       "conversionMethod": "pd.DataFrame",
       "ref": "99b2214c-9583-40c2-85c0-0bc0f3332031",
       "rows": [
        [
         "0",
         "parcelle.40079477",
         "Marseille",
         "132169100C0180",
         "5567",
         "16.77168900043102",
         "43.350898971187256",
         "5.349608541307329",
         "0.0",
         "445307145",
         "service",
         null,
         "5",
         "5",
         "4"
        ],
        [
         "1",
         "parcelle.40083492",
         "Marseille",
         "132058190A0110",
         "10588",
         "0.0",
         "43.292013637009084",
         "5.39902736170706",
         "0.0",
         "260500778",
         "service",
         "Allée Fraissinet",
         "5",
         "5",
         "0"
        ],
        [
         "2",
         "parcelle.40083501",
         "Marseille",
         "132098460C0196",
         "18520",
         "0.0",
         "43.23601566299758",
         "5.412615792651035",
         "0.0",
         "1193176178",
         "service",
         null,
         "5",
         "5",
         "0"
        ],
        [
         "3",
         "parcelle.40083533",
         "Marseille",
         "13212877AE0121",
         "5596",
         "0.0",
         "43.30601361063431",
         "5.441690829393496",
         "0.0",
         "27773399",
         "residential",
         "Traverse de Courtrai",
         "5",
         "5",
         "4"
        ],
        [
         "4",
         "parcelle.40083539",
         "Marseille",
         "132118700H0156",
         "96129",
         "0.0",
         "43.28312992167407",
         "5.459582218547111",
         "0.0",
         "157678655",
         "service",
         null,
         "5",
         "5",
         "0"
        ]
       ],
       "shape": {
        "columns": 14,
        "rows": 5
       }
      },
      "text/html": [
       "<div>\n",
       "<style scoped>\n",
       "    .dataframe tbody tr th:only-of-type {\n",
       "        vertical-align: middle;\n",
       "    }\n",
       "\n",
       "    .dataframe tbody tr th {\n",
       "        vertical-align: top;\n",
       "    }\n",
       "\n",
       "    .dataframe thead th {\n",
       "        text-align: right;\n",
       "    }\n",
       "</style>\n",
       "<table border=\"1\" class=\"dataframe\">\n",
       "  <thead>\n",
       "    <tr style=\"text-align: right;\">\n",
       "      <th></th>\n",
       "      <th>id</th>\n",
       "      <th>nom_com</th>\n",
       "      <th>info_parc</th>\n",
       "      <th>contenance</th>\n",
       "      <th>min_distance_meters_enedis</th>\n",
       "      <th>centroid_x</th>\n",
       "      <th>centroid_y</th>\n",
       "      <th>min_distance_meters_route</th>\n",
       "      <th>nearest_route_id</th>\n",
       "      <th>highway</th>\n",
       "      <th>name</th>\n",
       "      <th>score_min_distance</th>\n",
       "      <th>score_min_distance_route</th>\n",
       "      <th>score_contenance</th>\n",
       "    </tr>\n",
       "  </thead>\n",
       "  <tbody>\n",
       "    <tr>\n",
       "      <th>0</th>\n",
       "      <td>parcelle.40079477</td>\n",
       "      <td>Marseille</td>\n",
       "      <td>132169100C0180</td>\n",
       "      <td>5567</td>\n",
       "      <td>16.771689</td>\n",
       "      <td>43.350899</td>\n",
       "      <td>5.349609</td>\n",
       "      <td>0.0</td>\n",
       "      <td>445307145</td>\n",
       "      <td>service</td>\n",
       "      <td>NaN</td>\n",
       "      <td>5</td>\n",
       "      <td>5</td>\n",
       "      <td>4</td>\n",
       "    </tr>\n",
       "    <tr>\n",
       "      <th>1</th>\n",
       "      <td>parcelle.40083492</td>\n",
       "      <td>Marseille</td>\n",
       "      <td>132058190A0110</td>\n",
       "      <td>10588</td>\n",
       "      <td>0.000000</td>\n",
       "      <td>43.292014</td>\n",
       "      <td>5.399027</td>\n",
       "      <td>0.0</td>\n",
       "      <td>260500778</td>\n",
       "      <td>service</td>\n",
       "      <td>Allée Fraissinet</td>\n",
       "      <td>5</td>\n",
       "      <td>5</td>\n",
       "      <td>0</td>\n",
       "    </tr>\n",
       "    <tr>\n",
       "      <th>2</th>\n",
       "      <td>parcelle.40083501</td>\n",
       "      <td>Marseille</td>\n",
       "      <td>132098460C0196</td>\n",
       "      <td>18520</td>\n",
       "      <td>0.000000</td>\n",
       "      <td>43.236016</td>\n",
       "      <td>5.412616</td>\n",
       "      <td>0.0</td>\n",
       "      <td>1193176178</td>\n",
       "      <td>service</td>\n",
       "      <td>NaN</td>\n",
       "      <td>5</td>\n",
       "      <td>5</td>\n",
       "      <td>0</td>\n",
       "    </tr>\n",
       "    <tr>\n",
       "      <th>3</th>\n",
       "      <td>parcelle.40083533</td>\n",
       "      <td>Marseille</td>\n",
       "      <td>13212877AE0121</td>\n",
       "      <td>5596</td>\n",
       "      <td>0.000000</td>\n",
       "      <td>43.306014</td>\n",
       "      <td>5.441691</td>\n",
       "      <td>0.0</td>\n",
       "      <td>27773399</td>\n",
       "      <td>residential</td>\n",
       "      <td>Traverse de Courtrai</td>\n",
       "      <td>5</td>\n",
       "      <td>5</td>\n",
       "      <td>4</td>\n",
       "    </tr>\n",
       "    <tr>\n",
       "      <th>4</th>\n",
       "      <td>parcelle.40083539</td>\n",
       "      <td>Marseille</td>\n",
       "      <td>132118700H0156</td>\n",
       "      <td>96129</td>\n",
       "      <td>0.000000</td>\n",
       "      <td>43.283130</td>\n",
       "      <td>5.459582</td>\n",
       "      <td>0.0</td>\n",
       "      <td>157678655</td>\n",
       "      <td>service</td>\n",
       "      <td>NaN</td>\n",
       "      <td>5</td>\n",
       "      <td>5</td>\n",
       "      <td>0</td>\n",
       "    </tr>\n",
       "  </tbody>\n",
       "</table>\n",
       "</div>"
      ],
      "text/plain": [
       "                  id    nom_com       info_parc  contenance  \\\n",
       "0  parcelle.40079477  Marseille  132169100C0180        5567   \n",
       "1  parcelle.40083492  Marseille  132058190A0110       10588   \n",
       "2  parcelle.40083501  Marseille  132098460C0196       18520   \n",
       "3  parcelle.40083533  Marseille  13212877AE0121        5596   \n",
       "4  parcelle.40083539  Marseille  132118700H0156       96129   \n",
       "\n",
       "   min_distance_meters_enedis  centroid_x  centroid_y  \\\n",
       "0                   16.771689   43.350899    5.349609   \n",
       "1                    0.000000   43.292014    5.399027   \n",
       "2                    0.000000   43.236016    5.412616   \n",
       "3                    0.000000   43.306014    5.441691   \n",
       "4                    0.000000   43.283130    5.459582   \n",
       "\n",
       "   min_distance_meters_route  nearest_route_id      highway  \\\n",
       "0                        0.0         445307145      service   \n",
       "1                        0.0         260500778      service   \n",
       "2                        0.0        1193176178      service   \n",
       "3                        0.0          27773399  residential   \n",
       "4                        0.0         157678655      service   \n",
       "\n",
       "                   name  score_min_distance  score_min_distance_route  \\\n",
       "0                   NaN                   5                         5   \n",
       "1      Allée Fraissinet                   5                         5   \n",
       "2                   NaN                   5                         5   \n",
       "3  Traverse de Courtrai                   5                         5   \n",
       "4                   NaN                   5                         5   \n",
       "\n",
       "   score_contenance  \n",
       "0                 4  \n",
       "1                 0  \n",
       "2                 0  \n",
       "3                 4  \n",
       "4                 0  "
      ]
     },
     "execution_count": 13,
     "metadata": {},
     "output_type": "execute_result"
    }
   ],
   "source": [
    "df.head()"
   ]
  },
  {
   "cell_type": "code",
   "execution_count": 14,
   "metadata": {},
   "outputs": [
    {
     "name": "stdout",
     "output_type": "stream",
     "text": [
      "Colonnes disponibles dans le dataset :\n",
      "Index(['id', 'nom_com', 'info_parc', 'contenance',\n",
      "       'min_distance_meters_enedis', 'centroid_x', 'centroid_y',\n",
      "       'min_distance_meters_route', 'nearest_route_id', 'highway', 'name',\n",
      "       'score_min_distance', 'score_min_distance_route', 'score_contenance'],\n",
      "      dtype='object')\n",
      "Scores recalculés et fichier mis à jour.\n"
     ]
    }
   ],
   "source": [
    "import os\n",
    "\n",
    "# Afficher les noms des colonnes pour vérifier leur exactitude\n",
    "print(\"Colonnes disponibles dans le dataset :\")\n",
    "print(df.columns)\n",
    "\n",
    "# Vérifier les colonnes de score disponibles\n",
    "score_columns = ['score_min_distance', 'score_min_distance_route', 'score_contenance']\n",
    "available_score_columns = [col for col in score_columns if col in df.columns]\n",
    "\n",
    "if len(available_score_columns) < len(score_columns):\n",
    "    missing_columns = set(score_columns) - set(available_score_columns)\n",
    "    print(f\"Les colonnes suivantes sont manquantes dans le dataset : {missing_columns}\")\n",
    "\n",
    "# Calculer la moyenne des colonnes de score disponibles\n",
    "if available_score_columns:\n",
    "    df['score_final'] = df[available_score_columns].mean(axis=1)\n",
    "    # Créer le répertoire s'il n'existe pas\n",
    "    os.makedirs(os.path.dirname(file_path), exist_ok=True)\n",
    "    # Sauvegarder les données avec la nouvelle colonne\n",
    "    df.to_csv(file_path, index=False)\n",
    "    print('Scores recalculés et fichier mis à jour.')\n",
    "else:\n",
    "    print(\"Aucune des colonnes de score spécifiées n'est disponible dans le dataset.\")"
   ]
  },
  {
   "cell_type": "code",
   "execution_count": 15,
   "metadata": {},
   "outputs": [
    {
     "data": {
      "application/vnd.microsoft.datawrangler.viewer.v0+json": {
       "columns": [
        {
         "name": "index",
         "rawType": "int64",
         "type": "integer"
        },
        {
         "name": "id",
         "rawType": "object",
         "type": "string"
        },
        {
         "name": "nom_com",
         "rawType": "object",
         "type": "string"
        },
        {
         "name": "info_parc",
         "rawType": "object",
         "type": "string"
        },
        {
         "name": "contenance",
         "rawType": "int64",
         "type": "integer"
        },
        {
         "name": "min_distance_meters_enedis",
         "rawType": "float64",
         "type": "float"
        },
        {
         "name": "centroid_x",
         "rawType": "float64",
         "type": "float"
        },
        {
         "name": "centroid_y",
         "rawType": "float64",
         "type": "float"
        },
        {
         "name": "min_distance_meters_route",
         "rawType": "float64",
         "type": "float"
        },
        {
         "name": "nearest_route_id",
         "rawType": "int64",
         "type": "integer"
        },
        {
         "name": "highway",
         "rawType": "object",
         "type": "string"
        },
        {
         "name": "name",
         "rawType": "object",
         "type": "unknown"
        },
        {
         "name": "score_min_distance",
         "rawType": "int64",
         "type": "integer"
        },
        {
         "name": "score_min_distance_route",
         "rawType": "int64",
         "type": "integer"
        },
        {
         "name": "score_contenance",
         "rawType": "int64",
         "type": "integer"
        },
        {
         "name": "score_final",
         "rawType": "float64",
         "type": "float"
        }
       ],
       "conversionMethod": "pd.DataFrame",
       "ref": "cf2875a2-934c-4672-91c1-25e4624ca2b0",
       "rows": [
        [
         "0",
         "parcelle.40079477",
         "Marseille",
         "132169100C0180",
         "5567",
         "16.77168900043102",
         "43.350898971187256",
         "5.349608541307329",
         "0.0",
         "445307145",
         "service",
         null,
         "5",
         "5",
         "4",
         "4.666666666666667"
        ],
        [
         "1",
         "parcelle.40083492",
         "Marseille",
         "132058190A0110",
         "10588",
         "0.0",
         "43.292013637009084",
         "5.39902736170706",
         "0.0",
         "260500778",
         "service",
         "Allée Fraissinet",
         "5",
         "5",
         "0",
         "3.3333333333333335"
        ],
        [
         "2",
         "parcelle.40083501",
         "Marseille",
         "132098460C0196",
         "18520",
         "0.0",
         "43.23601566299758",
         "5.412615792651035",
         "0.0",
         "1193176178",
         "service",
         null,
         "5",
         "5",
         "0",
         "3.3333333333333335"
        ],
        [
         "3",
         "parcelle.40083533",
         "Marseille",
         "13212877AE0121",
         "5596",
         "0.0",
         "43.30601361063431",
         "5.441690829393496",
         "0.0",
         "27773399",
         "residential",
         "Traverse de Courtrai",
         "5",
         "5",
         "4",
         "4.666666666666667"
        ],
        [
         "4",
         "parcelle.40083539",
         "Marseille",
         "132118700H0156",
         "96129",
         "0.0",
         "43.28312992167407",
         "5.459582218547111",
         "0.0",
         "157678655",
         "service",
         null,
         "5",
         "5",
         "0",
         "3.3333333333333335"
        ]
       ],
       "shape": {
        "columns": 15,
        "rows": 5
       }
      },
      "text/html": [
       "<div>\n",
       "<style scoped>\n",
       "    .dataframe tbody tr th:only-of-type {\n",
       "        vertical-align: middle;\n",
       "    }\n",
       "\n",
       "    .dataframe tbody tr th {\n",
       "        vertical-align: top;\n",
       "    }\n",
       "\n",
       "    .dataframe thead th {\n",
       "        text-align: right;\n",
       "    }\n",
       "</style>\n",
       "<table border=\"1\" class=\"dataframe\">\n",
       "  <thead>\n",
       "    <tr style=\"text-align: right;\">\n",
       "      <th></th>\n",
       "      <th>id</th>\n",
       "      <th>nom_com</th>\n",
       "      <th>info_parc</th>\n",
       "      <th>contenance</th>\n",
       "      <th>min_distance_meters_enedis</th>\n",
       "      <th>centroid_x</th>\n",
       "      <th>centroid_y</th>\n",
       "      <th>min_distance_meters_route</th>\n",
       "      <th>nearest_route_id</th>\n",
       "      <th>highway</th>\n",
       "      <th>name</th>\n",
       "      <th>score_min_distance</th>\n",
       "      <th>score_min_distance_route</th>\n",
       "      <th>score_contenance</th>\n",
       "      <th>score_final</th>\n",
       "    </tr>\n",
       "  </thead>\n",
       "  <tbody>\n",
       "    <tr>\n",
       "      <th>0</th>\n",
       "      <td>parcelle.40079477</td>\n",
       "      <td>Marseille</td>\n",
       "      <td>132169100C0180</td>\n",
       "      <td>5567</td>\n",
       "      <td>16.771689</td>\n",
       "      <td>43.350899</td>\n",
       "      <td>5.349609</td>\n",
       "      <td>0.0</td>\n",
       "      <td>445307145</td>\n",
       "      <td>service</td>\n",
       "      <td>NaN</td>\n",
       "      <td>5</td>\n",
       "      <td>5</td>\n",
       "      <td>4</td>\n",
       "      <td>4.666667</td>\n",
       "    </tr>\n",
       "    <tr>\n",
       "      <th>1</th>\n",
       "      <td>parcelle.40083492</td>\n",
       "      <td>Marseille</td>\n",
       "      <td>132058190A0110</td>\n",
       "      <td>10588</td>\n",
       "      <td>0.000000</td>\n",
       "      <td>43.292014</td>\n",
       "      <td>5.399027</td>\n",
       "      <td>0.0</td>\n",
       "      <td>260500778</td>\n",
       "      <td>service</td>\n",
       "      <td>Allée Fraissinet</td>\n",
       "      <td>5</td>\n",
       "      <td>5</td>\n",
       "      <td>0</td>\n",
       "      <td>3.333333</td>\n",
       "    </tr>\n",
       "    <tr>\n",
       "      <th>2</th>\n",
       "      <td>parcelle.40083501</td>\n",
       "      <td>Marseille</td>\n",
       "      <td>132098460C0196</td>\n",
       "      <td>18520</td>\n",
       "      <td>0.000000</td>\n",
       "      <td>43.236016</td>\n",
       "      <td>5.412616</td>\n",
       "      <td>0.0</td>\n",
       "      <td>1193176178</td>\n",
       "      <td>service</td>\n",
       "      <td>NaN</td>\n",
       "      <td>5</td>\n",
       "      <td>5</td>\n",
       "      <td>0</td>\n",
       "      <td>3.333333</td>\n",
       "    </tr>\n",
       "    <tr>\n",
       "      <th>3</th>\n",
       "      <td>parcelle.40083533</td>\n",
       "      <td>Marseille</td>\n",
       "      <td>13212877AE0121</td>\n",
       "      <td>5596</td>\n",
       "      <td>0.000000</td>\n",
       "      <td>43.306014</td>\n",
       "      <td>5.441691</td>\n",
       "      <td>0.0</td>\n",
       "      <td>27773399</td>\n",
       "      <td>residential</td>\n",
       "      <td>Traverse de Courtrai</td>\n",
       "      <td>5</td>\n",
       "      <td>5</td>\n",
       "      <td>4</td>\n",
       "      <td>4.666667</td>\n",
       "    </tr>\n",
       "    <tr>\n",
       "      <th>4</th>\n",
       "      <td>parcelle.40083539</td>\n",
       "      <td>Marseille</td>\n",
       "      <td>132118700H0156</td>\n",
       "      <td>96129</td>\n",
       "      <td>0.000000</td>\n",
       "      <td>43.283130</td>\n",
       "      <td>5.459582</td>\n",
       "      <td>0.0</td>\n",
       "      <td>157678655</td>\n",
       "      <td>service</td>\n",
       "      <td>NaN</td>\n",
       "      <td>5</td>\n",
       "      <td>5</td>\n",
       "      <td>0</td>\n",
       "      <td>3.333333</td>\n",
       "    </tr>\n",
       "  </tbody>\n",
       "</table>\n",
       "</div>"
      ],
      "text/plain": [
       "                  id    nom_com       info_parc  contenance  \\\n",
       "0  parcelle.40079477  Marseille  132169100C0180        5567   \n",
       "1  parcelle.40083492  Marseille  132058190A0110       10588   \n",
       "2  parcelle.40083501  Marseille  132098460C0196       18520   \n",
       "3  parcelle.40083533  Marseille  13212877AE0121        5596   \n",
       "4  parcelle.40083539  Marseille  132118700H0156       96129   \n",
       "\n",
       "   min_distance_meters_enedis  centroid_x  centroid_y  \\\n",
       "0                   16.771689   43.350899    5.349609   \n",
       "1                    0.000000   43.292014    5.399027   \n",
       "2                    0.000000   43.236016    5.412616   \n",
       "3                    0.000000   43.306014    5.441691   \n",
       "4                    0.000000   43.283130    5.459582   \n",
       "\n",
       "   min_distance_meters_route  nearest_route_id      highway  \\\n",
       "0                        0.0         445307145      service   \n",
       "1                        0.0         260500778      service   \n",
       "2                        0.0        1193176178      service   \n",
       "3                        0.0          27773399  residential   \n",
       "4                        0.0         157678655      service   \n",
       "\n",
       "                   name  score_min_distance  score_min_distance_route  \\\n",
       "0                   NaN                   5                         5   \n",
       "1      Allée Fraissinet                   5                         5   \n",
       "2                   NaN                   5                         5   \n",
       "3  Traverse de Courtrai                   5                         5   \n",
       "4                   NaN                   5                         5   \n",
       "\n",
       "   score_contenance  score_final  \n",
       "0                 4     4.666667  \n",
       "1                 0     3.333333  \n",
       "2                 0     3.333333  \n",
       "3                 4     4.666667  \n",
       "4                 0     3.333333  "
      ]
     },
     "execution_count": 15,
     "metadata": {},
     "output_type": "execute_result"
    }
   ],
   "source": [
    "df.head()"
   ]
  },
  {
   "cell_type": "code",
   "execution_count": 16,
   "metadata": {},
   "outputs": [
    {
     "name": "stdout",
     "output_type": "stream",
     "text": [
      "Fichier JSON enregistré à : ./MAP/data/parcelles/parcelles_distances_nearest.json\n"
     ]
    }
   ],
   "source": [
    "# Chemin du fichier JSON\n",
    "json_file_path = file_path.replace('.csv', '.json')\n",
    "\n",
    "# Enregistrer le DataFrame en format JSON\n",
    "df.to_json(json_file_path, orient='records', lines=True)\n",
    "\n",
    "print(f\"Fichier JSON enregistré à : {json_file_path}\")"
   ]
  },
  {
   "cell_type": "code",
   "execution_count": 17,
   "metadata": {},
   "outputs": [
    {
     "name": "stdout",
     "output_type": "stream",
     "text": [
      "Nombre de lignes avec un score_final supérieur à 3 : 34997\n"
     ]
    }
   ],
   "source": [
    "# Compter le nombre de lignes où score_final est supérieur à 3\n",
    "count_above_3 = df[df['score_final'] > 3].shape[0]\n",
    "print(f\"Nombre de lignes avec un score_final supérieur à 3 : {count_above_3}\")"
   ]
  }
 ],
 "metadata": {
  "kernelspec": {
   "display_name": "Python 3",
   "language": "python",
   "name": "python3"
  },
  "language_info": {
   "codemirror_mode": {
    "name": "ipython",
    "version": 3
   },
   "file_extension": ".py",
   "mimetype": "text/x-python",
   "name": "python",
   "nbconvert_exporter": "python",
   "pygments_lexer": "ipython3",
   "version": "3.11.5"
  }
 },
 "nbformat": 4,
 "nbformat_minor": 2
}
